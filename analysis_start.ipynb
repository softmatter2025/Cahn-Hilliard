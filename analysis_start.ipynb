{
 "cells": [
  {
   "cell_type": "code",
   "execution_count": 1,
   "id": "aea3cbde",
   "metadata": {},
   "outputs": [
    {
     "name": "stderr",
     "output_type": "stream",
     "text": [
      "INFO:amep.plot.amep_plot_defaults: Could not find a LaTeX distribution - using amep standard style.\n"
     ]
    }
   ],
   "source": [
    "import amep\n",
    "import numpy as np"
   ]
  },
  {
   "cell_type": "code",
   "execution_count": 2,
   "id": "4c979d3e",
   "metadata": {},
   "outputs": [
    {
     "data": {
      "application/vnd.jupyter.widget-view+json": {
       "model_id": "7a7733c359864a6fa18ad0be0139e63b",
       "version_major": 2,
       "version_minor": 0
      },
      "text/plain": [
       "  0%|          | 0/101 [00:00<?, ?it/s]"
      ]
     },
     "metadata": {},
     "output_type": "display_data"
    },
    {
     "name": "stderr",
     "output_type": "stream",
     "text": [
      "WARNING:amep.reader.ContinuumReader.__init__: Timestep not set. Use default timestep of 1.0. This value is ignored if the 'TIME' is specified in your data files. Please check the required continuum data format for more details. The timestep can be set manually by traj.dt=<dt>.\n"
     ]
    }
   ],
   "source": [
    "path_01=\"/home/fprak/Desktop/versuche/2025_06_24/growth_rate/output_data_Growth_Rate\"\n",
    "traj_01 = amep.load.traj(path_01, mode=\"field\", dumps=\"field_*\")"
   ]
  },
  {
   "cell_type": "code",
   "execution_count": 3,
   "id": "51f0c60a",
   "metadata": {},
   "outputs": [
    {
     "data": {
      "application/vnd.jupyter.widget-view+json": {
       "model_id": "847e5dacee7e4e2eb40115f5ec360aa5",
       "version_major": 2,
       "version_minor": 0
      },
      "text/plain": [
       "  0%|          | 0/20 [00:00<?, ?it/s]"
      ]
     },
     "metadata": {},
     "output_type": "display_data"
    },
    {
     "name": "stderr",
     "output_type": "stream",
     "text": [
      "WARNING:amep.reader.ContinuumReader.__init__: Timestep not set. Use default timestep of 1.0. This value is ignored if the 'TIME' is specified in your data files. Please check the required continuum data format for more details. The timestep can be set manually by traj.dt=<dt>.\n"
     ]
    }
   ],
   "source": [
    "path_01=\"/home/fprak/Desktop/versuche/2024_07_15/output_data_Ege_Alireza_test2\"\n",
    "traj_01 = amep.load.traj(path_01, mode=\"field\", dumps=\"field_*\")"
   ]
  },
  {
   "cell_type": "code",
   "execution_count": 6,
   "id": "2d1c16c1",
   "metadata": {},
   "outputs": [
    {
     "data": {
      "text/plain": [
       "-4.1669846"
      ]
     },
     "execution_count": 6,
     "metadata": {},
     "output_type": "execute_result"
    }
   ],
   "source": [
    "np.sum(traj_01[0].data(\"c\"))"
   ]
  },
  {
   "cell_type": "code",
   "execution_count": null,
   "id": "599c1b49",
   "metadata": {},
   "outputs": [],
   "source": []
  },
  {
   "cell_type": "code",
   "execution_count": 7,
   "id": "c175502e",
   "metadata": {},
   "outputs": [
    {
     "data": {
      "text/plain": [
       "-4.166992"
      ]
     },
     "execution_count": 7,
     "metadata": {},
     "output_type": "execute_result"
    }
   ],
   "source": [
    "np.sum(traj_01[-1].data(\"c\"))"
   ]
  },
  {
   "cell_type": "code",
   "execution_count": 8,
   "id": "00fc0f75",
   "metadata": {},
   "outputs": [
    {
     "data": {
      "application/vnd.jupyter.widget-view+json": {
       "model_id": "9bff9081761e4995a40178d5b61c2ea8",
       "version_major": 2,
       "version_minor": 0
      },
      "text/plain": [
       "  0%|          | 0/11 [00:00<?, ?it/s]"
      ]
     },
     "metadata": {},
     "output_type": "display_data"
    },
    {
     "name": "stderr",
     "output_type": "stream",
     "text": [
      "WARNING:amep.reader.ContinuumReader.__init__: Timestep not set. Use default timestep of 1.0. This value is ignored if the 'TIME' is specified in your data files. Please check the required continuum data format for more details. The timestep can be set manually by traj.dt=<dt>.\n"
     ]
    }
   ],
   "source": [
    "path_02=\"/home/fprak/Desktop/versuche/2024_07_15/output_data_Ege_Alireza_test3\"\n",
    "traj_02 = amep.load.traj(path_02, mode=\"field\", dumps=\"field_*\")"
   ]
  },
  {
   "cell_type": "code",
   "execution_count": 9,
   "id": "35ac1b1e",
   "metadata": {},
   "outputs": [
    {
     "data": {
      "text/plain": [
       "2.785151"
      ]
     },
     "execution_count": 9,
     "metadata": {},
     "output_type": "execute_result"
    }
   ],
   "source": [
    "np.sum(traj_02[0].data(\"c\"))\n"
   ]
  },
  {
   "cell_type": "code",
   "execution_count": 10,
   "id": "40845d0a",
   "metadata": {},
   "outputs": [
    {
     "data": {
      "text/plain": [
       "2.7850952"
      ]
     },
     "execution_count": 10,
     "metadata": {},
     "output_type": "execute_result"
    }
   ],
   "source": [
    "np.sum(traj_02[-1].data(\"c\"))"
   ]
  },
  {
   "cell_type": "code",
   "execution_count": null,
   "id": "7bf6a5df",
   "metadata": {},
   "outputs": [],
   "source": []
  },
  {
   "cell_type": "code",
   "execution_count": 12,
   "id": "76229cf8",
   "metadata": {},
   "outputs": [
    {
     "data": {
      "application/vnd.jupyter.widget-view+json": {
       "model_id": "85e613e819ac4f119b602a5a5fc05ac5",
       "version_major": 2,
       "version_minor": 0
      },
      "text/plain": [
       "  0%|          | 0/2 [00:00<?, ?it/s]"
      ]
     },
     "metadata": {},
     "output_type": "display_data"
    },
    {
     "name": "stderr",
     "output_type": "stream",
     "text": [
      "WARNING:amep.reader.ContinuumReader.__init__: Timestep not set. Use default timestep of 1.0. This value is ignored if the 'TIME' is specified in your data files. Please check the required continuum data format for more details. The timestep can be set manually by traj.dt=<dt>.\n"
     ]
    }
   ],
   "source": [
    "# interfaces\n",
    "path_1_5=\"/home/fprak/Desktop/versuche/2024_07_15/interfaces/output_data_-01.5\"\n",
    "traj_1_5 = amep.load.traj(path_1_5, mode=\"field\", dumps=\"field_*\")"
   ]
  },
  {
   "cell_type": "code",
   "execution_count": 18,
   "id": "3c1db921",
   "metadata": {},
   "outputs": [
    {
     "data": {
      "text/plain": [
       "[<matplotlib.lines.Line2D at 0x7f25f941f610>]"
      ]
     },
     "execution_count": 18,
     "metadata": {},
     "output_type": "execute_result"
    },
    {
     "data": {
      "image/png": "[encoded data removed]",
      "text/plain": [
       "<Figure size 400x300 with 1 Axes>"
      ]
     },
     "metadata": {},
     "output_type": "display_data"
    }
   ],
   "source": [
    "fig, axs= amep.plot.new()\n",
    "#x=traj_1_5.box\n",
    "y=traj_1_5[-1].data(\"c\")\n",
    "axs.plot(y[:,0])\n",
    "# axs.set_xlim(4000,4200)"
   ]
  },
  {
   "cell_type": "code",
   "execution_count": 15,
   "id": "b3e10b67",
   "metadata": {},
   "outputs": [
    {
     "ename": "AttributeError",
     "evalue": "'FieldTrajectory' object has no attribute 'coords'",
     "output_type": "error",
     "traceback": [
      "\u001b[0;31m---------------------------------------------------------------------------\u001b[0m",
      "\u001b[0;31mAttributeError\u001b[0m                            Traceback (most recent call last)",
      "Cell \u001b[0;32mIn[15], line 1\u001b[0m\n\u001b[0;32m----> 1\u001b[0m x\u001b[38;5;241m=\u001b[39m\u001b[43mtraj_1_5\u001b[49m\u001b[38;5;241;43m.\u001b[39;49m\u001b[43mcoords\u001b[49m\n",
      "\u001b[0;31mAttributeError\u001b[0m: 'FieldTrajectory' object has no attribute 'coords'"
     ]
    }
   ],
   "source": []
  },
  {
   "cell_type": "code",
   "execution_count": 2,
   "id": "eda8d586",
   "metadata": {},
   "outputs": [
    {
     "data": {
      "application/vnd.jupyter.widget-view+json": {
       "model_id": "2682c07f7f2b452fb2bd3b4882704bd9",
       "version_major": 2,
       "version_minor": 0
      },
      "text/plain": [
       "  0%|          | 0/101 [00:00<?, ?it/s]"
      ]
     },
     "metadata": {},
     "output_type": "display_data"
    },
    {
     "name": "stderr",
     "output_type": "stream",
     "text": [
      "WARNING:amep.reader.ContinuumReader.__init__: Timestep not set. Use default timestep of 1.0. This value is ignored if the 'TIME' is specified in your data files. Please check the required continuum data format for more details. The timestep can be set manually by traj.dt=<dt>.\n"
     ]
    }
   ],
   "source": [
    "path=\"/home/fprak/Desktop/versuche/2024_07_15/GrowthRate/output_data_crazylarge\"\n",
    "traj_crazylarge=amep.load.traj(path, mode=\"field\", dumps=\"field_*\")"
   ]
  },
  {
   "cell_type": "code",
   "execution_count": null,
   "id": "75dd8b41",
   "metadata": {},
   "outputs": [],
   "source": [
    "path=\"pathtoh5amepfile\"\n",
    "traj_crazylarge=amep.load.traj(path, mode=\"h5amep\")"
   ]
  }
 ],
 "metadata": {
  "kernelspec": {
   "display_name": "Python 3 (ipykernel)",
   "language": "python",
   "name": "python3"
  },
  "language_info": {
   "codemirror_mode": {
    "name": "ipython",
    "version": 3
   },
   "file_extension": ".py",
   "mimetype": "text/x-python",
   "name": "python",
   "nbconvert_exporter": "python",
   "pygments_lexer": "ipython3",
   "version": "3.10.14"
  }
 },
 "nbformat": 4,
 "nbformat_minor": 5
}
